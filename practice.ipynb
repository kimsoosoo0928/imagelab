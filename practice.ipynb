{
 "cells": [
  {
   "cell_type": "code",
   "execution_count": 5,
   "id": "874d0b21",
   "metadata": {},
   "outputs": [],
   "source": [
    "import cv2\n",
    "import numpy as np\n",
    "from glob import glob\n",
    "%matplotlib inline\n",
    "import matplotlib.pyplot as plt\n",
    "import os"
   ]
  },
  {
   "cell_type": "code",
   "execution_count": 6,
   "id": "a0bc212d",
   "metadata": {},
   "outputs": [],
   "source": [
    "files = glob(\"./220112_test/*.bmp\")"
   ]
  },
  {
   "cell_type": "code",
   "execution_count": 7,
   "id": "61514b7e",
   "metadata": {},
   "outputs": [
    {
     "data": {
      "text/plain": [
       "['./220112_test\\\\Pic_2022_01_12_165707_1.bmp',\n",
       " './220112_test\\\\Pic_2022_01_12_165709_2.bmp',\n",
       " './220112_test\\\\Pic_2022_01_12_165907_4 _ 10.bmp',\n",
       " './220112_test\\\\Pic_2022_01_12_165920_5 _ 10.bmp',\n",
       " './220112_test\\\\Pic_2022_01_12_170112_6.bmp',\n",
       " './220112_test\\\\Pic_2022_01_12_170125_7.bmp',\n",
       " './220112_test\\\\Pic_2022_01_12_170128_8.bmp',\n",
       " './220112_test\\\\Pic_2022_01_12_170344_9.bmp',\n",
       " './220112_test\\\\Pic_2022_01_12_170402_10.bmp',\n",
       " './220112_test\\\\z_150_t_30_NIR.bmp',\n",
       " './220112_test\\\\z_150_t_30_RGB.bmp']"
      ]
     },
     "execution_count": 7,
     "metadata": {},
     "output_type": "execute_result"
    }
   ],
   "source": [
    "files"
   ]
  },
  {
   "cell_type": "code",
   "execution_count": 9,
   "id": "3cd89824",
   "metadata": {},
   "outputs": [
    {
     "name": "stdout",
     "output_type": "stream",
     "text": [
      "./220112_test\\Pic_2022_01_12_165707_1.bmp 0\n"
     ]
    },
    {
     "ename": "AttributeError",
     "evalue": "'numpy.ndarray' object has no attribute 'shpae'",
     "output_type": "error",
     "traceback": [
      "\u001b[1;31m---------------------------------------------------------------------------\u001b[0m",
      "\u001b[1;31mAttributeError\u001b[0m                            Traceback (most recent call last)",
      "\u001b[1;32m~\\AppData\\Local\\Temp/ipykernel_8140/1201728419.py\u001b[0m in \u001b[0;36m<module>\u001b[1;34m\u001b[0m\n\u001b[0;32m      8\u001b[0m     \u001b[0mtype\u001b[0m\u001b[1;33m(\u001b[0m\u001b[0mimg\u001b[0m\u001b[1;33m)\u001b[0m\u001b[1;33m\u001b[0m\u001b[1;33m\u001b[0m\u001b[0m\n\u001b[0;32m      9\u001b[0m \u001b[1;33m\u001b[0m\u001b[0m\n\u001b[1;32m---> 10\u001b[1;33m     \u001b[0mh\u001b[0m\u001b[1;33m,\u001b[0m \u001b[0mw\u001b[0m \u001b[1;33m=\u001b[0m \u001b[0mimg\u001b[0m\u001b[1;33m.\u001b[0m\u001b[0mshpae\u001b[0m\u001b[1;33m[\u001b[0m\u001b[1;33m:\u001b[0m\u001b[1;36m2\u001b[0m\u001b[1;33m]\u001b[0m\u001b[1;33m\u001b[0m\u001b[1;33m\u001b[0m\u001b[0m\n\u001b[0m\u001b[0;32m     11\u001b[0m \u001b[1;33m\u001b[0m\u001b[0m\n\u001b[0;32m     12\u001b[0m     \u001b[0mh_base\u001b[0m \u001b[1;33m=\u001b[0m \u001b[0mint\u001b[0m\u001b[1;33m(\u001b[0m\u001b[0mh\u001b[0m\u001b[1;33m/\u001b[0m\u001b[1;36m3\u001b[0m\u001b[1;33m)\u001b[0m\u001b[1;33m\u001b[0m\u001b[1;33m\u001b[0m\u001b[0m\n",
      "\u001b[1;31mAttributeError\u001b[0m: 'numpy.ndarray' object has no attribute 'shpae'"
     ]
    }
   ],
   "source": [
    "index = 0 \n",
    "for i in files:\n",
    "    path = f'./results_practice/{index}_folder'\n",
    "    print(files[index], index)\n",
    "    \n",
    "    img = cv2.imread(files[index])\n",
    "    \n",
    "    h, w = img.shpae[:2]\n",
    "    \n",
    "    h_base = int(h/3)\n",
    "    w_base = int(w/3)\n",
    "    \n",
    "    for j in range(0,3):\n",
    "        for x in range(0,3):\n",
    "            temp = img[j*h_base:(j+1)*h_base, x*w_base:(x+1)*w_base]\n",
    "            cv2.imwrite(path + f'img_{j}_{x}.png', temp)\n",
    "\n",
    "\n",
    "            \n",
    "    "
   ]
  },
  {
   "cell_type": "code",
   "execution_count": 10,
   "id": "d75534a1",
   "metadata": {},
   "outputs": [
    {
     "data": {
      "text/plain": [
       "numpy.ndarray"
      ]
     },
     "execution_count": 10,
     "metadata": {},
     "output_type": "execute_result"
    }
   ],
   "source": [
    "type(img)"
   ]
  },
  {
   "cell_type": "code",
   "execution_count": null,
   "id": "9a4e34c0",
   "metadata": {},
   "outputs": [],
   "source": []
  }
 ],
 "metadata": {
  "kernelspec": {
   "display_name": "Python 3 (ipykernel)",
   "language": "python",
   "name": "python3"
  },
  "language_info": {
   "codemirror_mode": {
    "name": "ipython",
    "version": 3
   },
   "file_extension": ".py",
   "mimetype": "text/x-python",
   "name": "python",
   "nbconvert_exporter": "python",
   "pygments_lexer": "ipython3",
   "version": "3.9.7"
  }
 },
 "nbformat": 4,
 "nbformat_minor": 5
}

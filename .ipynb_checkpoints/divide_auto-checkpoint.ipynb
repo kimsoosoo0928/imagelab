{
 "cells": [
  {
   "cell_type": "code",
   "execution_count": 1,
   "id": "bc6daa75",
   "metadata": {},
   "outputs": [],
   "source": [
    "import cv2\n",
    "import numpy as np\n",
    "from glob import glob\n",
    "%matplotlib inline\n",
    "import matplotlib.pyplot as plt\n",
    "import os "
   ]
  },
  {
   "cell_type": "code",
   "execution_count": 2,
   "id": "e493accd",
   "metadata": {
    "scrolled": false
   },
   "outputs": [
    {
     "data": {
      "text/plain": [
       "[]"
      ]
     },
     "execution_count": 2,
     "metadata": {},
     "output_type": "execute_result"
    }
   ],
   "source": [
    "files = glob('C:\\\\Users\\\\kimso\\\\Desktop\\\\220112_test\\\\*.bmp')\n",
    "files"
   ]
  },
  {
   "cell_type": "code",
   "execution_count": 3,
   "id": "f02c9f39",
   "metadata": {},
   "outputs": [],
   "source": [
    "# 폴더 생성\n",
    "index = 0\n",
    "for i in files:\n",
    "    \n",
    "    path = f'C:\\\\Users\\\\kimso\\\\Desktop\\\\get_germination_rate\\\\results\\\\{index}_folder\\\\'\n",
    "            #1번이미지\n",
    "    print(files[index], index)\n",
    "    img = cv2.imread(files[index])\n",
    "                          \n",
    "    h, w = img.shape[:2] # 이게 무슨 뜻일까?\n",
    "    h_base = int(h/3)\n",
    "    w_base = int(w/3)\n",
    "    for j in range(0,3):\n",
    "        for x in range(0,3):\n",
    "            temp = img[j*h_base:(j+1)*h_base,x*w_base:(x+1)*w_base]\n",
    "            cv2.imwrite(path+f'img_{j}_{x}.png', temp)\n",
    "            \n",
    "    \n",
    "        \n",
    "    if not os.path.exists(path):\n",
    "        os.mkdir(path)     \n",
    "    index += 1\n",
    "    "
   ]
  },
  {
   "cell_type": "code",
   "execution_count": null,
   "id": "a53df617",
   "metadata": {},
   "outputs": [],
   "source": []
  },
  {
   "cell_type": "code",
   "execution_count": null,
   "id": "43eece06",
   "metadata": {},
   "outputs": [],
   "source": []
  },
  {
   "cell_type": "code",
   "execution_count": null,
   "id": "a8a4a144",
   "metadata": {},
   "outputs": [],
   "source": []
  },
  {
   "cell_type": "code",
   "execution_count": null,
   "id": "69f991ce",
   "metadata": {},
   "outputs": [],
   "source": []
  },
  {
   "cell_type": "code",
   "execution_count": null,
   "id": "cc9c0041",
   "metadata": {},
   "outputs": [],
   "source": []
  },
  {
   "cell_type": "code",
   "execution_count": null,
   "id": "fb2f7363",
   "metadata": {},
   "outputs": [],
   "source": []
  },
  {
   "cell_type": "code",
   "execution_count": null,
   "id": "cfc85659",
   "metadata": {},
   "outputs": [],
   "source": []
  },
  {
   "cell_type": "code",
   "execution_count": null,
   "id": "63e796b6",
   "metadata": {},
   "outputs": [],
   "source": []
  },
  {
   "cell_type": "code",
   "execution_count": null,
   "id": "f8da2690",
   "metadata": {},
   "outputs": [],
   "source": []
  }
 ],
 "metadata": {
  "kernelspec": {
   "display_name": "Python 3 (ipykernel)",
   "language": "python",
   "name": "python3"
  },
  "language_info": {
   "codemirror_mode": {
    "name": "ipython",
    "version": 3
   },
   "file_extension": ".py",
   "mimetype": "text/x-python",
   "name": "python",
   "nbconvert_exporter": "python",
   "pygments_lexer": "ipython3",
   "version": "3.9.7"
  }
 },
 "nbformat": 4,
 "nbformat_minor": 5
}
